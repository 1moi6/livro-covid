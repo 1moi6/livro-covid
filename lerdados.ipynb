{
 "cells": [
  {
   "cell_type": "code",
   "execution_count": 1,
   "metadata": {},
   "outputs": [],
   "source": [
    "import pandas as pd\n",
    "import numpy as np\n",
    "import seaborn as sns\n",
    "from scipy import optimize"
   ]
  },
  {
   "cell_type": "code",
   "execution_count": 4,
   "metadata": {},
   "outputs": [],
   "source": [
    "dt1 = pd.read_csv(\"HIST_PAINEL_COVIDBR_2022_Parte2_24fev2023.csv\",delimiter=\";\")\n",
    "dt2 = pd.read_csv(\"HIST_PAINEL_COVIDBR_2023_Parte1_24fev2023.csv\",delimiter=\";\")"
   ]
  },
  {
   "cell_type": "code",
   "execution_count": 11,
   "metadata": {},
   "outputs": [],
   "source": [
    "dt1[dt1.municipio==\"Cuiabá\"][[\"data\",\"casosAcumulado\"]].to_csv(\"d2022.csv\",index=False)"
   ]
  },
  {
   "cell_type": "code",
   "execution_count": 12,
   "metadata": {},
   "outputs": [],
   "source": [
    "dt2[dt2.municipio==\"Cuiabá\"][[\"data\",\"casosAcumulado\"]].to_csv(\"d2023.csv\",index=False)"
   ]
  }
 ],
 "metadata": {
  "kernelspec": {
   "display_name": "basico",
   "language": "python",
   "name": "python3"
  },
  "language_info": {
   "codemirror_mode": {
    "name": "ipython",
    "version": 3
   },
   "file_extension": ".py",
   "mimetype": "text/x-python",
   "name": "python",
   "nbconvert_exporter": "python",
   "pygments_lexer": "ipython3",
   "version": "3.10.8"
  },
  "orig_nbformat": 4,
  "vscode": {
   "interpreter": {
    "hash": "c465bf73b49a10f80478bca24b58099e5ba305018ffe2f60e88c492037de4269"
   }
  }
 },
 "nbformat": 4,
 "nbformat_minor": 2
}
